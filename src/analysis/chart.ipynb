{
 "cells": [
  {
   "cell_type": "code",
   "execution_count": null,
   "id": "f226412d",
   "metadata": {},
   "outputs": [],
   "source": [
    "import matplotlib.pyplot as plt"
   ]
  },
  {
   "cell_type": "code",
   "execution_count": null,
   "id": "d6dcbac4",
   "metadata": {},
   "outputs": [],
   "source": [
    "thread = [1, 2, 3, 4, 5, 6, 7, 8, 9, 10]\n",
    "gray_filter_times = [16.4, 13.4, 11.8, 10.2, 9.8, 8.6, 9.4, 9.0, 8.2, 9.0]\n",
    "gaussian_filter_times = [970.6, 503.2, 470.0, 353.4, 335.6, 298.4, 284.8, 282.2, 296.6, 272.8]"
   ]
  },
  {
   "cell_type": "code",
   "execution_count": null,
   "id": "ebfc27d8",
   "metadata": {},
   "outputs": [],
   "source": [
    "plt.figure(figsize=(10, 5))\n",
    "plt.plot(thread, gray_filter_times, marker='o', label='GrayLevelFilter')\n",
    "\n",
    "plt.title(\"GrayLevelFilter Execution Time per Thread Count\")\n",
    "plt.xlabel(\"Threads\")\n",
    "plt.ylabel(\"Time (ms)\")\n",
    "plt.legend()\n",
    "plt.grid(True)\n",
    "\n",
    "plt.savefig(\"gray_time_thread.png\")\n",
    "plt.show()"
   ]
  },
  {
   "cell_type": "code",
   "execution_count": null,
   "id": "f79c4f1d",
   "metadata": {},
   "outputs": [],
   "source": [
    "plt.figure(figsize=(10, 5))\n",
    "plt.plot(thread, gaussian_filter_times, marker='o', label='GaussianContourExtractorFilter')\n",
    "\n",
    "plt.title(\"GaussianContourExtractorFilter Execution Time per Thread Count\")\n",
    "plt.xlabel(\"Threads\")\n",
    "plt.ylabel(\"Time (ms)\")\n",
    "plt.legend()\n",
    "plt.grid(True)\n",
    "\n",
    "plt.savefig(\"contour_time_thread.png\")\n",
    "plt.show()"
   ]
  },
  {
   "cell_type": "code",
   "execution_count": null,
   "id": "3db1218d",
   "metadata": {},
   "outputs": [],
   "source": [
    "n = [2073600, 1440000, 360000, 230400, 140500, 57280, 32160, 5600]\n",
    "gray_filter_times = [67.6, 40.6, 12.6, 7.4, 4.4, 2.0, 1.6, 0.4]\n",
    "gaussian_filter_times = [1981.0, 1411.0, 358.2, 269.2, 185.0, 71.4, 35.8, 7.0]"
   ]
  },
  {
   "cell_type": "code",
   "execution_count": null,
   "id": "3c3f18f9",
   "metadata": {},
   "outputs": [],
   "source": [
    "plt.figure(figsize=(10, 5))\n",
    "plt.plot(n, gray_filter_times, marker='o', label='GrayLevelFilter')\n",
    "\n",
    "plt.title(\"GrayLevelFilter Execution Time per Image Size\")\n",
    "plt.xlabel(\"Size\")\n",
    "plt.ylabel(\"Time (ms)\")\n",
    "plt.legend()\n",
    "plt.grid(True)\n",
    "\n",
    "plt.savefig(\"gray_time_size.png\")\n",
    "plt.show()"
   ]
  },
  {
   "cell_type": "code",
   "execution_count": null,
   "id": "2cbd126a",
   "metadata": {},
   "outputs": [],
   "source": [
    "plt.figure(figsize=(10, 5))\n",
    "plt.plot(n, gaussian_filter_times, marker='o', label='GaussianContourExtractorFilter')\n",
    "\n",
    "plt.title(\"GaussianContourExtractorFilter Execution Time per Image Size\")\n",
    "plt.xlabel(\"Size\")\n",
    "plt.ylabel(\"Time (ms)\")\n",
    "plt.legend()\n",
    "plt.grid(True)\n",
    "\n",
    "plt.savefig(\"contour_time_size.png\")\n",
    "plt.show()"
   ]
  }
 ],
 "metadata": {
  "kernelspec": {
   "display_name": ".venv",
   "language": "python",
   "name": "python3"
  },
  "language_info": {
   "codemirror_mode": {
    "name": "ipython",
    "version": 3
   },
   "file_extension": ".py",
   "mimetype": "text/x-python",
   "name": "python",
   "nbconvert_exporter": "python",
   "pygments_lexer": "ipython3",
   "version": "3.12.3"
  }
 },
 "nbformat": 4,
 "nbformat_minor": 5
}
